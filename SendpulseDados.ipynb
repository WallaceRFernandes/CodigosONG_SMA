{
  "nbformat": 4,
  "nbformat_minor": 0,
  "metadata": {
    "colab": {
      "provenance": []
    },
    "kernelspec": {
      "name": "python3",
      "display_name": "Python 3"
    },
    "language_info": {
      "name": "python"
    }
  },
  "cells": [
    {
      "source": [
        "#installs e libs\n",
        "!pip install pysendpulse\n",
        "!pip install IPython\n",
        "!pip install pandas\n",
        "from pysendpulse.pysendpulse import PySendPulse\n",
        "from IPython.display import display\n",
        "from pandas import json_normalize\n",
        "import collections\n",
        "import datetime\n",
        "import requests\n",
        "import base64\n",
        "import json\n",
        "import pandas as pd"
      ],
      "cell_type": "code",
      "metadata": {
        "colab": {
          "base_uri": "https://localhost:8080/"
        },
        "collapsed": true,
        "id": "4SW-P583K-or",
        "outputId": "151c9853-b51c-4545-eea0-813df07ac965"
      },
      "execution_count": null,
      "outputs": [
        {
          "output_type": "stream",
          "name": "stdout",
          "text": [
            "Collecting pysendpulse\n",
            "  Downloading pysendpulse-0.1.8-py3-none-any.whl.metadata (999 bytes)\n",
            "Collecting python3-memcached (from pysendpulse)\n",
            "  Downloading python3-memcached-1.51.tar.gz (14 kB)\n",
            "  Preparing metadata (setup.py) ... \u001b[?25l\u001b[?25hdone\n",
            "Requirement already satisfied: requests in /usr/local/lib/python3.11/dist-packages (from pysendpulse) (2.32.3)\n",
            "Requirement already satisfied: deprecated in /usr/local/lib/python3.11/dist-packages (from pysendpulse) (1.2.18)\n",
            "Requirement already satisfied: wrapt<2,>=1.10 in /usr/local/lib/python3.11/dist-packages (from deprecated->pysendpulse) (1.17.2)\n",
            "Requirement already satisfied: charset-normalizer<4,>=2 in /usr/local/lib/python3.11/dist-packages (from requests->pysendpulse) (3.4.1)\n",
            "Requirement already satisfied: idna<4,>=2.5 in /usr/local/lib/python3.11/dist-packages (from requests->pysendpulse) (3.10)\n",
            "Requirement already satisfied: urllib3<3,>=1.21.1 in /usr/local/lib/python3.11/dist-packages (from requests->pysendpulse) (2.4.0)\n",
            "Requirement already satisfied: certifi>=2017.4.17 in /usr/local/lib/python3.11/dist-packages (from requests->pysendpulse) (2025.4.26)\n",
            "Downloading pysendpulse-0.1.8-py3-none-any.whl (13 kB)\n",
            "Building wheels for collected packages: python3-memcached\n",
            "  Building wheel for python3-memcached (setup.py) ... \u001b[?25l\u001b[?25hdone\n",
            "  Created wheel for python3-memcached: filename=python3_memcached-1.51-py3-none-any.whl size=14382 sha256=273ad9be3538435ce3d988e6b360e1ddbabfdfb09435f95df8a408202adba455\n",
            "  Stored in directory: /root/.cache/pip/wheels/50/02/82/7d651cbabbea97f8214de366974ca37cf7dc8c490d6d2235dd\n",
            "Successfully built python3-memcached\n",
            "Installing collected packages: python3-memcached, pysendpulse\n",
            "Successfully installed pysendpulse-0.1.8 python3-memcached-1.51\n",
            "Requirement already satisfied: IPython in /usr/local/lib/python3.11/dist-packages (7.34.0)\n",
            "Requirement already satisfied: setuptools>=18.5 in /usr/local/lib/python3.11/dist-packages (from IPython) (75.2.0)\n",
            "Collecting jedi>=0.16 (from IPython)\n",
            "  Downloading jedi-0.19.2-py2.py3-none-any.whl.metadata (22 kB)\n",
            "Requirement already satisfied: decorator in /usr/local/lib/python3.11/dist-packages (from IPython) (4.4.2)\n",
            "Requirement already satisfied: pickleshare in /usr/local/lib/python3.11/dist-packages (from IPython) (0.7.5)\n",
            "Requirement already satisfied: traitlets>=4.2 in /usr/local/lib/python3.11/dist-packages (from IPython) (5.7.1)\n",
            "Requirement already satisfied: prompt-toolkit!=3.0.0,!=3.0.1,<3.1.0,>=2.0.0 in /usr/local/lib/python3.11/dist-packages (from IPython) (3.0.51)\n",
            "Requirement already satisfied: pygments in /usr/local/lib/python3.11/dist-packages (from IPython) (2.19.1)\n",
            "Requirement already satisfied: backcall in /usr/local/lib/python3.11/dist-packages (from IPython) (0.2.0)\n",
            "Requirement already satisfied: matplotlib-inline in /usr/local/lib/python3.11/dist-packages (from IPython) (0.1.7)\n",
            "Requirement already satisfied: pexpect>4.3 in /usr/local/lib/python3.11/dist-packages (from IPython) (4.9.0)\n",
            "Requirement already satisfied: parso<0.9.0,>=0.8.4 in /usr/local/lib/python3.11/dist-packages (from jedi>=0.16->IPython) (0.8.4)\n",
            "Requirement already satisfied: ptyprocess>=0.5 in /usr/local/lib/python3.11/dist-packages (from pexpect>4.3->IPython) (0.7.0)\n",
            "Requirement already satisfied: wcwidth in /usr/local/lib/python3.11/dist-packages (from prompt-toolkit!=3.0.0,!=3.0.1,<3.1.0,>=2.0.0->IPython) (0.2.13)\n",
            "Downloading jedi-0.19.2-py2.py3-none-any.whl (1.6 MB)\n",
            "\u001b[2K   \u001b[90m━━━━━━━━━━━━━━━━━━━━━━━━━━━━━━━━━━━━━━━━\u001b[0m \u001b[32m1.6/1.6 MB\u001b[0m \u001b[31m58.8 MB/s\u001b[0m eta \u001b[36m0:00:00\u001b[0m\n",
            "\u001b[?25hInstalling collected packages: jedi\n",
            "Successfully installed jedi-0.19.2\n",
            "Requirement already satisfied: pandas in /usr/local/lib/python3.11/dist-packages (2.2.2)\n",
            "Requirement already satisfied: numpy>=1.23.2 in /usr/local/lib/python3.11/dist-packages (from pandas) (2.0.2)\n",
            "Requirement already satisfied: python-dateutil>=2.8.2 in /usr/local/lib/python3.11/dist-packages (from pandas) (2.9.0.post0)\n",
            "Requirement already satisfied: pytz>=2020.1 in /usr/local/lib/python3.11/dist-packages (from pandas) (2025.2)\n",
            "Requirement already satisfied: tzdata>=2022.7 in /usr/local/lib/python3.11/dist-packages (from pandas) (2025.2)\n",
            "Requirement already satisfied: six>=1.5 in /usr/local/lib/python3.11/dist-packages (from python-dateutil>=2.8.2->pandas) (1.17.0)\n"
          ]
        }
      ]
    },
    {
      "source": [
        "url = \"https://api.sendpulse.com/oauth/access_token\"\n",
        "\n",
        "payload = {\n",
        "    \"grant_type\": \"client_credentials\",\n",
        "    \"client_id\": \"\",\n",
        "    \"client_secret\": \"\"\n",
        "}\n",
        "\n",
        "response = requests.post(url, json=payload)\n",
        "\n",
        "\n",
        "access_token = json.loads(response.text)['access_token']\n",
        "\n",
        "\n",
        "headers = {\n",
        "    'Authorization': f'Bearer {access_token}'\n",
        "}"
      ],
      "cell_type": "code",
      "metadata": {
        "id": "PhChI2s1VmIE"
      },
      "execution_count": null,
      "outputs": []
    },
    {
      "cell_type": "code",
      "source": [
        "sms_campanhas = requests.get('https://api.sendpulse.com/sms/campaigns/list', headers=headers)\n",
        "sms_campanhas.json()\n",
        "print(sms_campanhas.json())"
      ],
      "metadata": {
        "id": "F42TjTJOm8Hg"
      },
      "execution_count": null,
      "outputs": []
    },
    {
      "cell_type": "code",
      "source": [],
      "metadata": {
        "id": "fN5fMiJH0iGb"
      },
      "execution_count": null,
      "outputs": []
    },
    {
      "cell_type": "code",
      "source": [
        "df_sms = pd.DataFrame(sms_campanhas.json())\n",
        "df_sms.to_csv('df_sms.csv', index=False)"
      ],
      "metadata": {
        "id": "xRSbYLVoako_"
      },
      "execution_count": null,
      "outputs": []
    },
    {
      "source": [
        "df_sms_expandido = json_normalize(df_sms['data']) # Expande a coluna 'data'\n",
        "\n",
        "df_sms_desaninhado = pd.concat([df_sms, df_sms_expandido], axis=1) # Concatena os DataFrames\n",
        "\n",
        "df_sms_desaninhado = df_sms_desaninhado.drop(['data'], axis=1)\n",
        "\n",
        "print(df_sms_desaninhado)"
      ],
      "cell_type": "code",
      "metadata": {
        "id": "FFIrxR-iofPn"
      },
      "execution_count": null,
      "outputs": []
    },
    {
      "cell_type": "code",
      "source": [
        "df_sms_desaninhado.to_csv('df_sms_desaninhado.csv', index=False)"
      ],
      "metadata": {
        "id": "U189PhNXpsHX"
      },
      "execution_count": null,
      "outputs": []
    },
    {
      "source": [
        "ids = df_sms_desaninhado['id'].tolist()\n",
        "\n",
        "# Cria uma lista para armazenar os dados de cada campanha\n",
        "campaign_data = []\n",
        "\n",
        "# Loop através de cada ID\n",
        "for id in ids:\n",
        "    # Constrói a URL com o ID atual\n",
        "    url = f'https://api.sendpulse.com/sms/campaigns/info/{id}'\n",
        "\n",
        "    # Faz a requisição GET\n",
        "    response = requests.get(url, headers=headers)\n",
        "\n",
        "    # Verifica se a requisição foi bem-sucedida\n",
        "    if response.status_code == 200:\n",
        "        # Adiciona os dados da campanha à lista\n",
        "        campaign_data.append(response.json())\n",
        "\n",
        "# Cria um novo DataFrame com os dados das campanhas\n",
        "df_campaigns = pd.DataFrame(campaign_data)"
      ],
      "cell_type": "code",
      "metadata": {
        "id": "4jMUa0_3r4KD"
      },
      "execution_count": null,
      "outputs": []
    },
    {
      "cell_type": "code",
      "source": [
        "print(campaign_data)"
      ],
      "metadata": {
        "collapsed": true,
        "id": "4rSClKkk1U-3"
      },
      "execution_count": null,
      "outputs": []
    },
    {
      "cell_type": "code",
      "source": [
        "df_campaigns.info()"
      ],
      "metadata": {
        "id": "8bVRSuNHsMST",
        "colab": {
          "base_uri": "https://localhost:8080/"
        },
        "outputId": "365406bf-ddf2-42b8-cb9a-ad247778c6df"
      },
      "execution_count": null,
      "outputs": [
        {
          "output_type": "stream",
          "name": "stdout",
          "text": [
            "<class 'pandas.core.frame.DataFrame'>\n",
            "RangeIndex: 228 entries, 0 to 227\n",
            "Data columns (total 2 columns):\n",
            " #   Column  Non-Null Count  Dtype \n",
            "---  ------  --------------  ----- \n",
            " 0   result  228 non-null    bool  \n",
            " 1   data    228 non-null    object\n",
            "dtypes: bool(1), object(1)\n",
            "memory usage: 2.1+ KB\n"
          ]
        }
      ]
    },
    {
      "source": [
        "df_info_campanhas = json_normalize(df_campaigns['data'])\n",
        "\n",
        "df_info_campanhas = pd.concat([df_campaigns, df_info_campanhas], axis=1)\n",
        "\n",
        "df_info_campanhas = df_info_campanhas.drop(['data'], axis=1)"
      ],
      "cell_type": "code",
      "metadata": {
        "id": "KMzs2fQntgN-"
      },
      "execution_count": null,
      "outputs": []
    },
    {
      "cell_type": "code",
      "source": [
        "df_info_campanhas.info()"
      ],
      "metadata": {
        "colab": {
          "base_uri": "https://localhost:8080/"
        },
        "id": "OtvJLVDSsMP7",
        "outputId": "56b1fef2-65fa-4e5c-c9f6-d0e8455c6160"
      },
      "execution_count": null,
      "outputs": [
        {
          "output_type": "stream",
          "name": "stdout",
          "text": [
            "<class 'pandas.core.frame.DataFrame'>\n",
            "RangeIndex: 228 entries, 0 to 227\n",
            "Data columns (total 9 columns):\n",
            " #   Column            Non-Null Count  Dtype \n",
            "---  ------            --------------  ----- \n",
            " 0   result            228 non-null    bool  \n",
            " 1   id                228 non-null    int64 \n",
            " 2   address_book_id   228 non-null    int64 \n",
            " 3   currency          228 non-null    object\n",
            " 4   company_price     228 non-null    object\n",
            " 5   send_date         228 non-null    object\n",
            " 6   date_created      228 non-null    object\n",
            " 7   sender_name       228 non-null    object\n",
            " 8   task_phones_info  228 non-null    object\n",
            "dtypes: bool(1), int64(2), object(6)\n",
            "memory usage: 14.6+ KB\n"
          ]
        }
      ]
    },
    {
      "source": [
        "df_info_campanhas['task_phones_info_count'] = df_info_campanhas['task_phones_info'].apply(len)"
      ],
      "cell_type": "code",
      "metadata": {
        "id": "O2i5uzyKe14t"
      },
      "execution_count": null,
      "outputs": []
    },
    {
      "cell_type": "code",
      "source": [
        "df_info_campanhas.info()"
      ],
      "metadata": {
        "id": "ko9KrX7xe3Xf"
      },
      "execution_count": null,
      "outputs": []
    },
    {
      "cell_type": "code",
      "source": [
        "display(df_info_campanhas)"
      ],
      "metadata": {
        "id": "dKFMep_qe4hx"
      },
      "execution_count": null,
      "outputs": []
    },
    {
      "source": [
        "def count_explains(events):\n",
        "  explain_counts = collections.Counter()\n",
        "  for event in events:\n",
        "    explain = event.get('status_explain')\n",
        "    if explain:\n",
        "      explain_counts[explain] += 1\n",
        "  return explain_counts\n",
        "\n",
        "df_info_campanhas['explain_counts'] = df_info_campanhas['task_phones_info'].apply(count_explains)\n",
        "\n",
        "for explain in df_info_campanhas['explain_counts'].apply(lambda x: x.keys()).explode().unique():\n",
        "  df_info_campanhas[f'count_{explain}'] = df_info_campanhas['explain_counts'].apply(lambda x: x.get(explain, 0))\n",
        "\n",
        "# Remover a coluna 'explain_counts' (opcional)\n",
        "df_info_campanhas_contagem = df_info_campanhas.drop('explain_counts', axis=1)\n",
        "\n",
        "display(df_info_campanhas_contagem)"
      ],
      "cell_type": "code",
      "metadata": {
        "id": "XNAFqevRoKTP"
      },
      "execution_count": null,
      "outputs": []
    },
    {
      "cell_type": "code",
      "source": [
        "df_info_campanhas_contagem.to_csv('df_info_campanhas_contagem.csv', index=False)"
      ],
      "metadata": {
        "id": "4C4licqEgrQ4"
      },
      "execution_count": null,
      "outputs": []
    },
    {
      "cell_type": "code",
      "source": [
        "df_info_campanhas_contagem.info()"
      ],
      "metadata": {
        "colab": {
          "base_uri": "https://localhost:8080/"
        },
        "id": "PC4beMFmgrTl",
        "outputId": "08355b84-4bef-47ea-ea7d-22353eb9ac2f"
      },
      "execution_count": null,
      "outputs": [
        {
          "output_type": "stream",
          "name": "stdout",
          "text": [
            "<class 'pandas.core.frame.DataFrame'>\n",
            "RangeIndex: 228 entries, 0 to 227\n",
            "Data columns (total 13 columns):\n",
            " #   Column                  Non-Null Count  Dtype \n",
            "---  ------                  --------------  ----- \n",
            " 0   result                  228 non-null    bool  \n",
            " 1   id                      228 non-null    int64 \n",
            " 2   address_book_id         228 non-null    int64 \n",
            " 3   currency                228 non-null    object\n",
            " 4   company_price           228 non-null    object\n",
            " 5   send_date               228 non-null    object\n",
            " 6   date_created            228 non-null    object\n",
            " 7   sender_name             228 non-null    object\n",
            " 8   task_phones_info        228 non-null    object\n",
            " 9   task_phones_info_count  228 non-null    int64 \n",
            " 10  count_Delivered         228 non-null    int64 \n",
            " 11  count_Not delivered     228 non-null    int64 \n",
            " 12  count_Ready to send     228 non-null    int64 \n",
            "dtypes: bool(1), int64(6), object(6)\n",
            "memory usage: 21.7+ KB\n"
          ]
        }
      ]
    },
    {
      "source": [
        "# Renomear colunas em df_info_campanhas_contagem\n",
        "df_info_campanhas_contagem = df_info_campanhas_contagem.rename(columns={\n",
        "    'id' : 'id_campanhas',\n",
        "    'send_date' : 'data_de_envio',\n",
        "    'sender_name' : 'objetivo_campanha',\n",
        "    'task_phones_info_count' : 'sms_enviados',\n",
        "    'count_Delivered' : 'sms_entregue',\n",
        "    'count_Not delivered' : 'sms_nao_entregue',\n",
        "    'count_Ready to send' : 'sms_envios_pendentes'\n",
        "})\n",
        "\n",
        "display(df_info_campanhas_contagem)"
      ],
      "cell_type": "code",
      "metadata": {
        "id": "PPLRTRSktiCt"
      },
      "execution_count": null,
      "outputs": []
    },
    {
      "cell_type": "code",
      "source": [
        "df_info_campanhas_contagem.info()"
      ],
      "metadata": {
        "collapsed": true,
        "id": "Ty0BTOYUutPT"
      },
      "execution_count": null,
      "outputs": []
    },
    {
      "cell_type": "code",
      "source": [
        "df_campanhas_sms = df_info_campanhas_contagem[['id_campanhas','data_de_envio','objetivo_campanha','sms_enviados','sms_entregue','sms_nao_entregue','sms_envios_pendentes']]"
      ],
      "metadata": {
        "id": "nwSBJ4TvgrV8"
      },
      "execution_count": null,
      "outputs": []
    },
    {
      "cell_type": "code",
      "source": [
        "df_campanhas_sms.info()"
      ],
      "metadata": {
        "id": "MrI164jigrYV",
        "collapsed": true
      },
      "execution_count": null,
      "outputs": []
    },
    {
      "cell_type": "code",
      "source": [
        "df_info_campanhas.head()"
      ],
      "metadata": {
        "id": "-YMaGI0LsLng"
      },
      "execution_count": null,
      "outputs": []
    },
    {
      "cell_type": "code",
      "source": [
        "df_info_campanhas.to_csv('df_info_campanhas.csv', index=False)"
      ],
      "metadata": {
        "id": "g07u76EisLgH"
      },
      "execution_count": null,
      "outputs": []
    },
    {
      "cell_type": "code",
      "source": [],
      "metadata": {
        "id": "BFZYdyF-sLWc"
      },
      "execution_count": null,
      "outputs": []
    },
    {
      "source": [
        "df_campanhas_sms.to_csv('df_campanhas_sms.csv', index=False)"
      ],
      "cell_type": "code",
      "metadata": {
        "id": "rulygXc5cbnX"
      },
      "execution_count": null,
      "outputs": []
    },
    {
      "cell_type": "code",
      "source": [],
      "metadata": {
        "id": "djgKwkWrsLHs"
      },
      "execution_count": null,
      "outputs": []
    }
  ]
}